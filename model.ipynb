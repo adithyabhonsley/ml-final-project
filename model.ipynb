{
 "cells": [
  {
   "cell_type": "markdown",
   "id": "3017d358",
   "metadata": {},
   "source": [
    "![SPOTIFY](image.png) "
   ]
  },
  {
   "cell_type": "markdown",
   "id": "d4acff88",
   "metadata": {},
   "source": [
    "# Predicting Hits on Spotify using Machine Learning"
   ]
  },
  {
   "cell_type": "markdown",
   "id": "6358bc6a",
   "metadata": {},
   "source": [
    "#### Authors: Adithya Bhonsley, Prayaag Gupta, Benjamin Wang, Dinesh Polisetty "
   ]
  },
  {
   "cell_type": "markdown",
   "id": "a37b1607",
   "metadata": {},
   "source": [
    "In this era of digital music, understanding the dynamics of song popularity is more intriguing than ever! With millions of songs available at our fingertips, we were curious to leverage machine learning to launch a data-driven exploration into what makes songs hits. For our experiments, we'll take a closer look into Spotify, one of the largest music streaming platforms in the world, and aim to predict song popularity through a variety of different modeling and analysis techniques covered in class. Below is the methodology we follow throughout this notebook for our experiments:\n",
    "\n",
    "* **Fetch**: Collect input data from various sources and synthesize\n",
    "* **Modify**: Run data pre-processing, cleaning, and feature selection/engineering\n",
    "* **Analyze**: Examine data using varying models, optimize through hyperparamater tuning, and compare\n",
    "* **Discuss**: Present results and visualizations to draw meaningful insights"
   ]
  },
  {
   "cell_type": "markdown",
   "id": "20414506",
   "metadata": {},
   "source": [
    "## Defining a Library"
   ]
  },
  {
   "cell_type": "markdown",
   "id": "131ed087",
   "metadata": {},
   "source": [
    "First, lets import all relevant libraries needed for data analysis, modeling, and visualizations."
   ]
  },
  {
   "cell_type": "code",
   "execution_count": 1,
   "id": "a6d7ef48",
   "metadata": {},
   "outputs": [],
   "source": [
    "import numpy as np\n",
    "import pandas as pd\n",
    "import seaborn as sns\n",
    "import matplotlib.pyplot as plt"
   ]
  },
  {
   "cell_type": "markdown",
   "id": "40cdf0c5",
   "metadata": {},
   "source": [
    "## Fetching Data"
   ]
  },
  {
   "cell_type": "markdown",
   "id": "a5d4f246",
   "metadata": {},
   "source": [
    "For our experiments, we'll use a Kaggle dataset sourced by developer Nidula Elgiryewithana, a comprehensive list of 2023 songs with an extensive insights on musical attributes, popularity, relevant metrics, and more. First, we read and load the data from its original CSV format."
   ]
  },
  {
   "cell_type": "code",
   "execution_count": 2,
   "id": "d5b33881",
   "metadata": {},
   "outputs": [
    {
     "data": {
      "text/html": [
       "<div>\n",
       "<style scoped>\n",
       "    .dataframe tbody tr th:only-of-type {\n",
       "        vertical-align: middle;\n",
       "    }\n",
       "\n",
       "    .dataframe tbody tr th {\n",
       "        vertical-align: top;\n",
       "    }\n",
       "\n",
       "    .dataframe thead th {\n",
       "        text-align: right;\n",
       "    }\n",
       "</style>\n",
       "<table border=\"1\" class=\"dataframe\">\n",
       "  <thead>\n",
       "    <tr style=\"text-align: right;\">\n",
       "      <th></th>\n",
       "      <th>track_name</th>\n",
       "      <th>artist(s)_name</th>\n",
       "      <th>artist_count</th>\n",
       "      <th>released_year</th>\n",
       "      <th>released_month</th>\n",
       "      <th>released_day</th>\n",
       "      <th>in_spotify_playlists</th>\n",
       "      <th>in_spotify_charts</th>\n",
       "      <th>streams</th>\n",
       "      <th>in_apple_playlists</th>\n",
       "      <th>...</th>\n",
       "      <th>bpm</th>\n",
       "      <th>key</th>\n",
       "      <th>mode</th>\n",
       "      <th>danceability_%</th>\n",
       "      <th>valence_%</th>\n",
       "      <th>energy_%</th>\n",
       "      <th>acousticness_%</th>\n",
       "      <th>instrumentalness_%</th>\n",
       "      <th>liveness_%</th>\n",
       "      <th>speechiness_%</th>\n",
       "    </tr>\n",
       "  </thead>\n",
       "  <tbody>\n",
       "    <tr>\n",
       "      <th>0</th>\n",
       "      <td>Seven (feat. Latto) (Explicit Ver.)</td>\n",
       "      <td>Latto, Jung Kook</td>\n",
       "      <td>2</td>\n",
       "      <td>2023</td>\n",
       "      <td>7</td>\n",
       "      <td>14</td>\n",
       "      <td>553</td>\n",
       "      <td>147</td>\n",
       "      <td>141381703</td>\n",
       "      <td>43</td>\n",
       "      <td>...</td>\n",
       "      <td>125</td>\n",
       "      <td>B</td>\n",
       "      <td>Major</td>\n",
       "      <td>80</td>\n",
       "      <td>89</td>\n",
       "      <td>83</td>\n",
       "      <td>31</td>\n",
       "      <td>0</td>\n",
       "      <td>8</td>\n",
       "      <td>4</td>\n",
       "    </tr>\n",
       "    <tr>\n",
       "      <th>1</th>\n",
       "      <td>LALA</td>\n",
       "      <td>Myke Towers</td>\n",
       "      <td>1</td>\n",
       "      <td>2023</td>\n",
       "      <td>3</td>\n",
       "      <td>23</td>\n",
       "      <td>1474</td>\n",
       "      <td>48</td>\n",
       "      <td>133716286</td>\n",
       "      <td>48</td>\n",
       "      <td>...</td>\n",
       "      <td>92</td>\n",
       "      <td>C#</td>\n",
       "      <td>Major</td>\n",
       "      <td>71</td>\n",
       "      <td>61</td>\n",
       "      <td>74</td>\n",
       "      <td>7</td>\n",
       "      <td>0</td>\n",
       "      <td>10</td>\n",
       "      <td>4</td>\n",
       "    </tr>\n",
       "    <tr>\n",
       "      <th>2</th>\n",
       "      <td>vampire</td>\n",
       "      <td>Olivia Rodrigo</td>\n",
       "      <td>1</td>\n",
       "      <td>2023</td>\n",
       "      <td>6</td>\n",
       "      <td>30</td>\n",
       "      <td>1397</td>\n",
       "      <td>113</td>\n",
       "      <td>140003974</td>\n",
       "      <td>94</td>\n",
       "      <td>...</td>\n",
       "      <td>138</td>\n",
       "      <td>F</td>\n",
       "      <td>Major</td>\n",
       "      <td>51</td>\n",
       "      <td>32</td>\n",
       "      <td>53</td>\n",
       "      <td>17</td>\n",
       "      <td>0</td>\n",
       "      <td>31</td>\n",
       "      <td>6</td>\n",
       "    </tr>\n",
       "    <tr>\n",
       "      <th>3</th>\n",
       "      <td>Cruel Summer</td>\n",
       "      <td>Taylor Swift</td>\n",
       "      <td>1</td>\n",
       "      <td>2019</td>\n",
       "      <td>8</td>\n",
       "      <td>23</td>\n",
       "      <td>7858</td>\n",
       "      <td>100</td>\n",
       "      <td>800840817</td>\n",
       "      <td>116</td>\n",
       "      <td>...</td>\n",
       "      <td>170</td>\n",
       "      <td>A</td>\n",
       "      <td>Major</td>\n",
       "      <td>55</td>\n",
       "      <td>58</td>\n",
       "      <td>72</td>\n",
       "      <td>11</td>\n",
       "      <td>0</td>\n",
       "      <td>11</td>\n",
       "      <td>15</td>\n",
       "    </tr>\n",
       "    <tr>\n",
       "      <th>4</th>\n",
       "      <td>WHERE SHE GOES</td>\n",
       "      <td>Bad Bunny</td>\n",
       "      <td>1</td>\n",
       "      <td>2023</td>\n",
       "      <td>5</td>\n",
       "      <td>18</td>\n",
       "      <td>3133</td>\n",
       "      <td>50</td>\n",
       "      <td>303236322</td>\n",
       "      <td>84</td>\n",
       "      <td>...</td>\n",
       "      <td>144</td>\n",
       "      <td>A</td>\n",
       "      <td>Minor</td>\n",
       "      <td>65</td>\n",
       "      <td>23</td>\n",
       "      <td>80</td>\n",
       "      <td>14</td>\n",
       "      <td>63</td>\n",
       "      <td>11</td>\n",
       "      <td>6</td>\n",
       "    </tr>\n",
       "    <tr>\n",
       "      <th>5</th>\n",
       "      <td>Sprinter</td>\n",
       "      <td>Dave, Central Cee</td>\n",
       "      <td>2</td>\n",
       "      <td>2023</td>\n",
       "      <td>6</td>\n",
       "      <td>1</td>\n",
       "      <td>2186</td>\n",
       "      <td>91</td>\n",
       "      <td>183706234</td>\n",
       "      <td>67</td>\n",
       "      <td>...</td>\n",
       "      <td>141</td>\n",
       "      <td>C#</td>\n",
       "      <td>Major</td>\n",
       "      <td>92</td>\n",
       "      <td>66</td>\n",
       "      <td>58</td>\n",
       "      <td>19</td>\n",
       "      <td>0</td>\n",
       "      <td>8</td>\n",
       "      <td>24</td>\n",
       "    </tr>\n",
       "    <tr>\n",
       "      <th>6</th>\n",
       "      <td>Ella Baila Sola</td>\n",
       "      <td>Eslabon Armado, Peso Pluma</td>\n",
       "      <td>2</td>\n",
       "      <td>2023</td>\n",
       "      <td>3</td>\n",
       "      <td>16</td>\n",
       "      <td>3090</td>\n",
       "      <td>50</td>\n",
       "      <td>725980112</td>\n",
       "      <td>34</td>\n",
       "      <td>...</td>\n",
       "      <td>148</td>\n",
       "      <td>F</td>\n",
       "      <td>Minor</td>\n",
       "      <td>67</td>\n",
       "      <td>83</td>\n",
       "      <td>76</td>\n",
       "      <td>48</td>\n",
       "      <td>0</td>\n",
       "      <td>8</td>\n",
       "      <td>3</td>\n",
       "    </tr>\n",
       "    <tr>\n",
       "      <th>7</th>\n",
       "      <td>Columbia</td>\n",
       "      <td>Quevedo</td>\n",
       "      <td>1</td>\n",
       "      <td>2023</td>\n",
       "      <td>7</td>\n",
       "      <td>7</td>\n",
       "      <td>714</td>\n",
       "      <td>43</td>\n",
       "      <td>58149378</td>\n",
       "      <td>25</td>\n",
       "      <td>...</td>\n",
       "      <td>100</td>\n",
       "      <td>F</td>\n",
       "      <td>Major</td>\n",
       "      <td>67</td>\n",
       "      <td>26</td>\n",
       "      <td>71</td>\n",
       "      <td>37</td>\n",
       "      <td>0</td>\n",
       "      <td>11</td>\n",
       "      <td>4</td>\n",
       "    </tr>\n",
       "    <tr>\n",
       "      <th>8</th>\n",
       "      <td>fukumean</td>\n",
       "      <td>Gunna</td>\n",
       "      <td>1</td>\n",
       "      <td>2023</td>\n",
       "      <td>5</td>\n",
       "      <td>15</td>\n",
       "      <td>1096</td>\n",
       "      <td>83</td>\n",
       "      <td>95217315</td>\n",
       "      <td>60</td>\n",
       "      <td>...</td>\n",
       "      <td>130</td>\n",
       "      <td>C#</td>\n",
       "      <td>Minor</td>\n",
       "      <td>85</td>\n",
       "      <td>22</td>\n",
       "      <td>62</td>\n",
       "      <td>12</td>\n",
       "      <td>0</td>\n",
       "      <td>28</td>\n",
       "      <td>9</td>\n",
       "    </tr>\n",
       "    <tr>\n",
       "      <th>9</th>\n",
       "      <td>La Bebe - Remix</td>\n",
       "      <td>Peso Pluma, Yng Lvcas</td>\n",
       "      <td>2</td>\n",
       "      <td>2023</td>\n",
       "      <td>3</td>\n",
       "      <td>17</td>\n",
       "      <td>2953</td>\n",
       "      <td>44</td>\n",
       "      <td>553634067</td>\n",
       "      <td>49</td>\n",
       "      <td>...</td>\n",
       "      <td>170</td>\n",
       "      <td>D</td>\n",
       "      <td>Minor</td>\n",
       "      <td>81</td>\n",
       "      <td>56</td>\n",
       "      <td>48</td>\n",
       "      <td>21</td>\n",
       "      <td>0</td>\n",
       "      <td>8</td>\n",
       "      <td>33</td>\n",
       "    </tr>\n",
       "  </tbody>\n",
       "</table>\n",
       "<p>10 rows × 24 columns</p>\n",
       "</div>"
      ],
      "text/plain": [
       "                            track_name              artist(s)_name  \\\n",
       "0  Seven (feat. Latto) (Explicit Ver.)            Latto, Jung Kook   \n",
       "1                                 LALA                 Myke Towers   \n",
       "2                              vampire              Olivia Rodrigo   \n",
       "3                         Cruel Summer                Taylor Swift   \n",
       "4                       WHERE SHE GOES                   Bad Bunny   \n",
       "5                             Sprinter           Dave, Central Cee   \n",
       "6                      Ella Baila Sola  Eslabon Armado, Peso Pluma   \n",
       "7                             Columbia                     Quevedo   \n",
       "8                             fukumean                       Gunna   \n",
       "9                      La Bebe - Remix       Peso Pluma, Yng Lvcas   \n",
       "\n",
       "   artist_count  released_year  released_month  released_day  \\\n",
       "0             2           2023               7            14   \n",
       "1             1           2023               3            23   \n",
       "2             1           2023               6            30   \n",
       "3             1           2019               8            23   \n",
       "4             1           2023               5            18   \n",
       "5             2           2023               6             1   \n",
       "6             2           2023               3            16   \n",
       "7             1           2023               7             7   \n",
       "8             1           2023               5            15   \n",
       "9             2           2023               3            17   \n",
       "\n",
       "   in_spotify_playlists  in_spotify_charts    streams  in_apple_playlists  \\\n",
       "0                   553                147  141381703                  43   \n",
       "1                  1474                 48  133716286                  48   \n",
       "2                  1397                113  140003974                  94   \n",
       "3                  7858                100  800840817                 116   \n",
       "4                  3133                 50  303236322                  84   \n",
       "5                  2186                 91  183706234                  67   \n",
       "6                  3090                 50  725980112                  34   \n",
       "7                   714                 43   58149378                  25   \n",
       "8                  1096                 83   95217315                  60   \n",
       "9                  2953                 44  553634067                  49   \n",
       "\n",
       "   ...  bpm key   mode danceability_%  valence_% energy_% acousticness_%  \\\n",
       "0  ...  125   B  Major             80         89       83             31   \n",
       "1  ...   92  C#  Major             71         61       74              7   \n",
       "2  ...  138   F  Major             51         32       53             17   \n",
       "3  ...  170   A  Major             55         58       72             11   \n",
       "4  ...  144   A  Minor             65         23       80             14   \n",
       "5  ...  141  C#  Major             92         66       58             19   \n",
       "6  ...  148   F  Minor             67         83       76             48   \n",
       "7  ...  100   F  Major             67         26       71             37   \n",
       "8  ...  130  C#  Minor             85         22       62             12   \n",
       "9  ...  170   D  Minor             81         56       48             21   \n",
       "\n",
       "   instrumentalness_%  liveness_%  speechiness_%  \n",
       "0                   0           8              4  \n",
       "1                   0          10              4  \n",
       "2                   0          31              6  \n",
       "3                   0          11             15  \n",
       "4                  63          11              6  \n",
       "5                   0           8             24  \n",
       "6                   0           8              3  \n",
       "7                   0          11              4  \n",
       "8                   0          28              9  \n",
       "9                   0           8             33  \n",
       "\n",
       "[10 rows x 24 columns]"
      ]
     },
     "execution_count": 2,
     "metadata": {},
     "output_type": "execute_result"
    }
   ],
   "source": [
    "data = pd.read_csv('data/spotify-2023.csv', encoding='latin-1')\n",
    "data.head(10)"
   ]
  },
  {
   "cell_type": "markdown",
   "id": "647a39f8",
   "metadata": {},
   "source": [
    "<hr style=\"border:0.25px solid gray\">"
   ]
  },
  {
   "cell_type": "markdown",
   "id": "93539a91",
   "metadata": {},
   "source": [
    "## Data Exploration"
   ]
  },
  {
   "cell_type": "markdown",
   "id": "44a1ab38",
   "metadata": {},
   "source": [
    "Given the data, now let's take a closer look the features provided, their data-types, and other attributes which may need to adjusted or cleaned prior to experimentation."
   ]
  },
  {
   "cell_type": "code",
   "execution_count": null,
   "id": "479c6b58",
   "metadata": {},
   "outputs": [],
   "source": [
    "data.info()"
   ]
  },
  {
   "cell_type": "markdown",
   "id": "fab06908",
   "metadata": {},
   "source": [
    "Above we see various attributes regarding a song's factual attributes (name, artist, release time, charts ranking, etc) as well as some more subjective attributes like musical ratings (danceability, energy, etc). Here's a more in-depth breakdown on the meaning behind these subjective musical features, scored between 0 and 100:\n",
    "\n",
    "* **danceability_%**: Measure of how suitiable a song is for dancing.\n",
    "* **valence_%**: Measure of how upbeat a song is (low for sad/negative, high for positive/upbeat)\t\n",
    "* **energy_%**: Measure of how energetic a song is.\n",
    "* **acousticness_%**: Measure of acoustic sound in the song\t\n",
    "* **instrumentalness_%**: Measure of instrumental content in the song\t\n",
    "* **liveness_%**: Measure of live performance elements in the song\n",
    "* **speechiness_%**: Measure of spoken words in the song."
   ]
  },
  {
   "cell_type": "markdown",
   "id": "ff042f4d",
   "metadata": {},
   "source": [
    "## Data Cleaning"
   ]
  },
  {
   "cell_type": "markdown",
   "id": "00b5c93e",
   "metadata": {},
   "source": [
    "#### Handling Missing Values\n",
    "Let's inspect the dataset for any missing values which could potentially skew results ..."
   ]
  },
  {
   "cell_type": "code",
   "execution_count": null,
   "id": "bf918321",
   "metadata": {},
   "outputs": [],
   "source": [
    "data.isna().sum()"
   ]
  },
  {
   "cell_type": "markdown",
   "id": "4204f4cd",
   "metadata": {},
   "source": [
    "From the table above, we find 50 occurrences of missing <code>in_shazam_charts</code> values and 95 occurences of missing <code>key</code> values:\n",
    "\n",
    "* The missing Shazam charts records are likely popular songs that did not chart on Shazam. We can mark these values with a placeholder of -1 since it's are outside the range of possible values (positive integers).\n",
    "* The entries with missing key values, denoting the song's key, could likely not be established. These key values are assigned using pitch class labels (0-12), more info: <href>https://en.wikipedia.org/wiki/Pitch_class</href>. To address these missing values, we can fill with -1 as well since that is also outside the range of possible values.\n",
    "\n",
    "In both cases, we resolve missing values using a placeholder value, clearly indicating to our future model that the data is missing or not applicable."
   ]
  },
  {
   "cell_type": "code",
   "execution_count": null,
   "id": "275ccb96",
   "metadata": {},
   "outputs": [],
   "source": [
    "# Fill missing values with -1 in shazam charts column\n",
    "data['in_shazam_charts'] = data['in_shazam_charts'].fillna(-1)\n",
    "\n",
    "# Fill missing values with -1 in key column\n",
    "data['key'] = data['key'].fillna(-1)\n",
    "\n",
    "# Check for missing again\n",
    "data.isna().sum()"
   ]
  },
  {
   "cell_type": "markdown",
   "id": "ace9a90a",
   "metadata": {},
   "source": [
    "#### Handling Improper Types\n",
    "Now let's check to see if any of our attributes are incorrectly typed in the data and require modifcation."
   ]
  },
  {
   "cell_type": "code",
   "execution_count": null,
   "id": "200d0fcc",
   "metadata": {},
   "outputs": [],
   "source": [
    "data.dtypes"
   ]
  },
  {
   "cell_type": "markdown",
   "id": "599af5e6",
   "metadata": {},
   "source": [
    "* Above, we see that <code>streams</code> is an object type, but instead should be numeric to represent a quantity. Additionally, the same applies with columns <code>in_deezer_playlists</code> and <code>in_shazam_charts</code>.\n",
    "* The <code>key</code> and <code>mode</code> columns are categorical, denoting a 0-12 pitch label or Major/Minor label, respectively. We can convert these to integer representations."
   ]
  },
  {
   "cell_type": "code",
   "execution_count": null,
   "id": "248f6ffe",
   "metadata": {},
   "outputs": [],
   "source": [
    "# Convert streams to numeric values\n",
    "data['streams'] = pd.to_numeric(data['streams'], errors='coerce')\n",
    "\n",
    "# Convert deezer playlist rankings to numeric values\n",
    "data['in_deezer_playlists'] = pd.to_numeric(data['in_deezer_playlists'], errors='coerce')\n",
    "\n",
    "# Convert shazam chart rankings to numeric values\n",
    "data['in_shazam_charts'] = pd.to_numeric(data['in_shazam_charts'], errors='coerce')\n",
    "\n",
    "# Assign integer representations for each pitch class\n",
    "pitch_class_label = {'C': 0,\n",
    "               'C#': 1,\n",
    "               'D': 2,\n",
    "               'D#': 3,\n",
    "               'E': 4,\n",
    "               'F': 5,\n",
    "               'F#': 6,\n",
    "               'G': 7,\n",
    "               'G#': 8,\n",
    "               'A': 9,\n",
    "               'A#': 10,\n",
    "               'B': 11\n",
    "               }\n",
    "\n",
    "# Assign integer representations for each mode class\n",
    "mode_class_label = {\"Major\": 0, \"Minor\": 1}\n",
    "\n",
    "# Convert key str values (A, B, C#, etc) -> (0, 1, ... 12)\n",
    "data['key'] = data['key'].map(pitch_class_label).fillna(-1)\n",
    "\n",
    "# Convert mode str labels to integer\n",
    "data['mode'] = data['mode'].map(mode_class_label).fillna(-1)"
   ]
  },
  {
   "cell_type": "markdown",
   "id": "f5625635",
   "metadata": {},
   "source": [
    "## Feature Engineering"
   ]
  },
  {
   "cell_type": "markdown",
   "id": "6c81282b",
   "metadata": {},
   "source": [
    "The first thing we want to do is create some features that are useful in predicting whether a song becomes extremely popular or not. \n",
    "* <code>Seasons</code> - This can be relevant as some seasons are associated with moods, themes, activities, cultures, etc.\n",
    "* <code>Genre</code> - This can be relevant as some genres might resonate more with the average person\n",
    "* <code>Artist Popularity</code> - This can be relevant as a song might gain a lot of traction based on an artist's popularity and the marketing they use for the song\n"
   ]
  },
  {
   "cell_type": "code",
   "execution_count": null,
   "id": "80c3a5f7",
   "metadata": {
    "scrolled": true
   },
   "outputs": [],
   "source": [
    "#Creating a seasons column and removing the released_month, released_day, and released_year columns\n",
    "def month_to_season(month):\n",
    "    if 3 <= month <= 5:\n",
    "        return 'Spring'\n",
    "    elif 6 <= month <= 8:\n",
    "        return 'Summer'\n",
    "    elif 9 <= month <= 11:\n",
    "        return 'Fall'\n",
    "    else:\n",
    "        return 'Winter'\n",
    "\n",
    "data['season'] = data['released_month'].apply(month_to_season)\n",
    "columns_to_drop = ['released_year', 'released_month', 'released_day']\n",
    "data = data.drop(columns=columns_to_drop)\n",
    "\n",
    "data.head()"
   ]
  },
  {
   "cell_type": "code",
   "execution_count": null,
   "id": "261f11e5",
   "metadata": {},
   "outputs": [],
   "source": [
    "import json\n",
    "import spotipy\n",
    "from spotipy.oauth2 import SpotifyClientCredentials\n",
    "\n",
    "#Getting the genre of a song and popularity of an artist with the spotify API\n",
    "def read_spotify_credentials(file_path):\n",
    "    credentials = {}\n",
    "    with open(file_path, 'r') as file:\n",
    "        for line in file:\n",
    "            key, value = line.strip().split('=')\n",
    "            credentials[key] = value\n",
    "    return credentials\n",
    "\n",
    "credentials_file_path = 'spotify_credentials.txt'\n",
    "spotify_credentials = read_spotify_credentials(credentials_file_path)\n",
    "client_credentials_manager = SpotifyClientCredentials(\n",
    "    client_id=spotify_credentials['client_id'],\n",
    "    client_secret=spotify_credentials['client_secret']\n",
    ")\n",
    "sp = spotipy.Spotify(client_credentials_manager=client_credentials_manager, requests_timeout=5)\n",
    "\n",
    "def get_top_genre(artist_name):\n",
    "    results = sp.search(q='artist:' + artist_name, type='artist')\n",
    "    #print(json.dumps(results, indent=4, sort_keys=True))\n",
    "\n",
    "    if len(results['artists']['items']) > 0:\n",
    "        artist_id = results['artists']['items'][0]['id']\n",
    "        if len(sp.artist(artist_id)['genres']) > 0:\n",
    "            return sp.artist(artist_id)['genres'][0]\n",
    "        else:\n",
    "            return None\n",
    "    else:\n",
    "        return None\n",
    "\n",
    "def get_num_followers(artist_name):\n",
    "    results = sp.search(q='artist:' + artist_name, type='artist')\n",
    "    #print(json.dumps(results, indent=4, sort_keys=True))\n",
    "\n",
    "    if len(results['artists']['items']) > 0:\n",
    "        artist_id = results['artists']['items'][0]['id']\n",
    "        num_followers = results['artists']['items'][0]['followers']['total']\n",
    "        return num_followers\n",
    "    else:\n",
    "        return None"
   ]
  },
  {
   "cell_type": "markdown",
   "id": "d66553b9",
   "metadata": {},
   "source": [
    "Since we do not want to call this API every time, we created a CSV that has all of our data cleaning changes with the number of followers that the artist has. Furthermore, although we also used the Spotify API to get the genre for each song, one-hot encoding this would significantly increase the dimensionality of the dataset. Thus, we decided to remove it. The cell below will fetch the data from our new CSV."
   ]
  },
  {
   "cell_type": "code",
   "execution_count": 7,
   "id": "07732ee4",
   "metadata": {},
   "outputs": [],
   "source": [
    "data = pd.read_csv('data_with_followers.csv', encoding='latin-1')"
   ]
  },
  {
   "cell_type": "code",
   "execution_count": 8,
   "id": "e99842c4",
   "metadata": {
    "scrolled": true
   },
   "outputs": [
    {
     "data": {
      "text/plain": [
       "streams               1\n",
       "bpm                   0\n",
       "key                   0\n",
       "mode                  0\n",
       "danceability_%        0\n",
       "valence_%             0\n",
       "energy_%              0\n",
       "acousticness_%        0\n",
       "instrumentalness_%    0\n",
       "liveness_%            0\n",
       "speechiness_%         0\n",
       "season                0\n",
       "num_followers         0\n",
       "dtype: int64"
      ]
     },
     "execution_count": 8,
     "metadata": {},
     "output_type": "execute_result"
    }
   ],
   "source": [
    "#data['genre'] = data['artist(s)_name'].apply(get_top_genre)\n",
    "#data['num_followers'] = data['artist(s)_name'].apply(get_num_followers)\n",
    "data.head()\n",
    "data.isna().sum()\n",
    "\n",
    "# Preserve copy of original\n",
    "original = data.copy()\n",
    "\n",
    "columns_to_drop = ['track_name', 'artist(s)_name', 'in_apple_playlists', 'in_apple_charts', 'in_deezer_playlists', 'in_deezer_charts', 'in_shazam_charts', 'in_spotify_playlists', 'artist_count', 'in_spotify_charts']\n",
    "data = data.drop(columns=columns_to_drop)\n",
    "data.isna().sum()"
   ]
  },
  {
   "cell_type": "markdown",
   "id": "92aece52",
   "metadata": {},
   "source": [
    "As we can see, there is one record that has a null value from number of streams. We can just impute this with the median value."
   ]
  },
  {
   "cell_type": "code",
   "execution_count": 9,
   "id": "d2a4d64c",
   "metadata": {
    "scrolled": true
   },
   "outputs": [
    {
     "data": {
      "text/plain": [
       "streams               0\n",
       "bpm                   0\n",
       "key                   0\n",
       "mode                  0\n",
       "danceability_%        0\n",
       "valence_%             0\n",
       "energy_%              0\n",
       "acousticness_%        0\n",
       "instrumentalness_%    0\n",
       "liveness_%            0\n",
       "speechiness_%         0\n",
       "season                0\n",
       "num_followers         0\n",
       "dtype: int64"
      ]
     },
     "execution_count": 9,
     "metadata": {},
     "output_type": "execute_result"
    }
   ],
   "source": [
    "#Filling null values\n",
    "\n",
    "median_num_streams = data['streams'].median()\n",
    "data['streams'].fillna(median_num_streams, inplace=True)\n",
    "\n",
    "# There were also some records that had NAs for num_follwers. This is the code we wrote to impute those values as well.\n",
    "median_followers = data['num_followers'].median()\n",
    "data['num_followers'].fillna(median_followers, inplace=True)\n",
    "data.head()\n",
    "data.isna().sum()"
   ]
  },
  {
   "cell_type": "markdown",
   "id": "eaf0be30",
   "metadata": {},
   "source": [
    "Now, we have our dataset! This is stored in the processed_data variable."
   ]
  },
  {
   "cell_type": "code",
   "execution_count": 10,
   "id": "2585167a",
   "metadata": {
    "scrolled": true
   },
   "outputs": [
    {
     "data": {
      "text/html": [
       "<div>\n",
       "<style scoped>\n",
       "    .dataframe tbody tr th:only-of-type {\n",
       "        vertical-align: middle;\n",
       "    }\n",
       "\n",
       "    .dataframe tbody tr th {\n",
       "        vertical-align: top;\n",
       "    }\n",
       "\n",
       "    .dataframe thead th {\n",
       "        text-align: right;\n",
       "    }\n",
       "</style>\n",
       "<table border=\"1\" class=\"dataframe\">\n",
       "  <thead>\n",
       "    <tr style=\"text-align: right;\">\n",
       "      <th></th>\n",
       "      <th>streams</th>\n",
       "      <th>bpm</th>\n",
       "      <th>key</th>\n",
       "      <th>mode</th>\n",
       "      <th>danceability_%</th>\n",
       "      <th>valence_%</th>\n",
       "      <th>energy_%</th>\n",
       "      <th>acousticness_%</th>\n",
       "      <th>instrumentalness_%</th>\n",
       "      <th>liveness_%</th>\n",
       "      <th>speechiness_%</th>\n",
       "      <th>season</th>\n",
       "      <th>num_followers</th>\n",
       "    </tr>\n",
       "  </thead>\n",
       "  <tbody>\n",
       "    <tr>\n",
       "      <th>0</th>\n",
       "      <td>141381703.0</td>\n",
       "      <td>125</td>\n",
       "      <td>11.0</td>\n",
       "      <td>0</td>\n",
       "      <td>80</td>\n",
       "      <td>89</td>\n",
       "      <td>83</td>\n",
       "      <td>31</td>\n",
       "      <td>0</td>\n",
       "      <td>8</td>\n",
       "      <td>4</td>\n",
       "      <td>Summer</td>\n",
       "      <td>12484102.0</td>\n",
       "    </tr>\n",
       "    <tr>\n",
       "      <th>1</th>\n",
       "      <td>133716286.0</td>\n",
       "      <td>92</td>\n",
       "      <td>1.0</td>\n",
       "      <td>0</td>\n",
       "      <td>71</td>\n",
       "      <td>61</td>\n",
       "      <td>74</td>\n",
       "      <td>7</td>\n",
       "      <td>0</td>\n",
       "      <td>10</td>\n",
       "      <td>4</td>\n",
       "      <td>Spring</td>\n",
       "      <td>13213551.0</td>\n",
       "    </tr>\n",
       "    <tr>\n",
       "      <th>2</th>\n",
       "      <td>140003974.0</td>\n",
       "      <td>138</td>\n",
       "      <td>5.0</td>\n",
       "      <td>0</td>\n",
       "      <td>51</td>\n",
       "      <td>32</td>\n",
       "      <td>53</td>\n",
       "      <td>17</td>\n",
       "      <td>0</td>\n",
       "      <td>31</td>\n",
       "      <td>6</td>\n",
       "      <td>Summer</td>\n",
       "      <td>29916000.0</td>\n",
       "    </tr>\n",
       "    <tr>\n",
       "      <th>3</th>\n",
       "      <td>800840817.0</td>\n",
       "      <td>170</td>\n",
       "      <td>9.0</td>\n",
       "      <td>0</td>\n",
       "      <td>55</td>\n",
       "      <td>58</td>\n",
       "      <td>72</td>\n",
       "      <td>11</td>\n",
       "      <td>0</td>\n",
       "      <td>11</td>\n",
       "      <td>15</td>\n",
       "      <td>Summer</td>\n",
       "      <td>92699744.0</td>\n",
       "    </tr>\n",
       "    <tr>\n",
       "      <th>4</th>\n",
       "      <td>303236322.0</td>\n",
       "      <td>144</td>\n",
       "      <td>9.0</td>\n",
       "      <td>1</td>\n",
       "      <td>65</td>\n",
       "      <td>23</td>\n",
       "      <td>80</td>\n",
       "      <td>14</td>\n",
       "      <td>63</td>\n",
       "      <td>11</td>\n",
       "      <td>6</td>\n",
       "      <td>Spring</td>\n",
       "      <td>76681922.0</td>\n",
       "    </tr>\n",
       "  </tbody>\n",
       "</table>\n",
       "</div>"
      ],
      "text/plain": [
       "       streams  bpm   key  mode  danceability_%  valence_%  energy_%  \\\n",
       "0  141381703.0  125  11.0     0              80         89        83   \n",
       "1  133716286.0   92   1.0     0              71         61        74   \n",
       "2  140003974.0  138   5.0     0              51         32        53   \n",
       "3  800840817.0  170   9.0     0              55         58        72   \n",
       "4  303236322.0  144   9.0     1              65         23        80   \n",
       "\n",
       "   acousticness_%  instrumentalness_%  liveness_%  speechiness_%  season  \\\n",
       "0              31                   0           8              4  Summer   \n",
       "1               7                   0          10              4  Spring   \n",
       "2              17                   0          31              6  Summer   \n",
       "3              11                   0          11             15  Summer   \n",
       "4              14                  63          11              6  Spring   \n",
       "\n",
       "   num_followers  \n",
       "0     12484102.0  \n",
       "1     13213551.0  \n",
       "2     29916000.0  \n",
       "3     92699744.0  \n",
       "4     76681922.0  "
      ]
     },
     "execution_count": 10,
     "metadata": {},
     "output_type": "execute_result"
    }
   ],
   "source": [
    "processed_data = data.copy(deep=False)\n",
    "processed_data.head()"
   ]
  },
  {
   "cell_type": "code",
   "execution_count": 12,
   "id": "2c3db4f0",
   "metadata": {},
   "outputs": [
    {
     "name": "stderr",
     "output_type": "stream",
     "text": [
      "/Library/Frameworks/Python.framework/Versions/3.9/lib/python3.9/site-packages/sklearn/preprocessing/_encoders.py:972: FutureWarning: `sparse` was renamed to `sparse_output` in version 1.2 and will be removed in 1.4. `sparse_output` is ignored unless you leave `sparse` to its default value.\n",
      "  warnings.warn(\n"
     ]
    },
    {
     "data": {
      "text/html": [
       "<div>\n",
       "<style scoped>\n",
       "    .dataframe tbody tr th:only-of-type {\n",
       "        vertical-align: middle;\n",
       "    }\n",
       "\n",
       "    .dataframe tbody tr th {\n",
       "        vertical-align: top;\n",
       "    }\n",
       "\n",
       "    .dataframe thead th {\n",
       "        text-align: right;\n",
       "    }\n",
       "</style>\n",
       "<table border=\"1\" class=\"dataframe\">\n",
       "  <thead>\n",
       "    <tr style=\"text-align: right;\">\n",
       "      <th></th>\n",
       "      <th>streams</th>\n",
       "      <th>bpm</th>\n",
       "      <th>key</th>\n",
       "      <th>mode</th>\n",
       "      <th>danceability_%</th>\n",
       "      <th>valence_%</th>\n",
       "      <th>energy_%</th>\n",
       "      <th>acousticness_%</th>\n",
       "      <th>instrumentalness_%</th>\n",
       "      <th>liveness_%</th>\n",
       "      <th>speechiness_%</th>\n",
       "      <th>num_followers</th>\n",
       "      <th>season_Spring</th>\n",
       "      <th>season_Summer</th>\n",
       "      <th>season_Winter</th>\n",
       "    </tr>\n",
       "  </thead>\n",
       "  <tbody>\n",
       "    <tr>\n",
       "      <th>0</th>\n",
       "      <td>141381703.0</td>\n",
       "      <td>125</td>\n",
       "      <td>11.0</td>\n",
       "      <td>0</td>\n",
       "      <td>80</td>\n",
       "      <td>89</td>\n",
       "      <td>83</td>\n",
       "      <td>31</td>\n",
       "      <td>0</td>\n",
       "      <td>8</td>\n",
       "      <td>4</td>\n",
       "      <td>12484102.0</td>\n",
       "      <td>0.0</td>\n",
       "      <td>1.0</td>\n",
       "      <td>0.0</td>\n",
       "    </tr>\n",
       "    <tr>\n",
       "      <th>1</th>\n",
       "      <td>133716286.0</td>\n",
       "      <td>92</td>\n",
       "      <td>1.0</td>\n",
       "      <td>0</td>\n",
       "      <td>71</td>\n",
       "      <td>61</td>\n",
       "      <td>74</td>\n",
       "      <td>7</td>\n",
       "      <td>0</td>\n",
       "      <td>10</td>\n",
       "      <td>4</td>\n",
       "      <td>13213551.0</td>\n",
       "      <td>1.0</td>\n",
       "      <td>0.0</td>\n",
       "      <td>0.0</td>\n",
       "    </tr>\n",
       "    <tr>\n",
       "      <th>2</th>\n",
       "      <td>140003974.0</td>\n",
       "      <td>138</td>\n",
       "      <td>5.0</td>\n",
       "      <td>0</td>\n",
       "      <td>51</td>\n",
       "      <td>32</td>\n",
       "      <td>53</td>\n",
       "      <td>17</td>\n",
       "      <td>0</td>\n",
       "      <td>31</td>\n",
       "      <td>6</td>\n",
       "      <td>29916000.0</td>\n",
       "      <td>0.0</td>\n",
       "      <td>1.0</td>\n",
       "      <td>0.0</td>\n",
       "    </tr>\n",
       "    <tr>\n",
       "      <th>3</th>\n",
       "      <td>800840817.0</td>\n",
       "      <td>170</td>\n",
       "      <td>9.0</td>\n",
       "      <td>0</td>\n",
       "      <td>55</td>\n",
       "      <td>58</td>\n",
       "      <td>72</td>\n",
       "      <td>11</td>\n",
       "      <td>0</td>\n",
       "      <td>11</td>\n",
       "      <td>15</td>\n",
       "      <td>92699744.0</td>\n",
       "      <td>0.0</td>\n",
       "      <td>1.0</td>\n",
       "      <td>0.0</td>\n",
       "    </tr>\n",
       "    <tr>\n",
       "      <th>4</th>\n",
       "      <td>303236322.0</td>\n",
       "      <td>144</td>\n",
       "      <td>9.0</td>\n",
       "      <td>1</td>\n",
       "      <td>65</td>\n",
       "      <td>23</td>\n",
       "      <td>80</td>\n",
       "      <td>14</td>\n",
       "      <td>63</td>\n",
       "      <td>11</td>\n",
       "      <td>6</td>\n",
       "      <td>76681922.0</td>\n",
       "      <td>1.0</td>\n",
       "      <td>0.0</td>\n",
       "      <td>0.0</td>\n",
       "    </tr>\n",
       "  </tbody>\n",
       "</table>\n",
       "</div>"
      ],
      "text/plain": [
       "       streams  bpm   key  mode  danceability_%  valence_%  energy_%  \\\n",
       "0  141381703.0  125  11.0     0              80         89        83   \n",
       "1  133716286.0   92   1.0     0              71         61        74   \n",
       "2  140003974.0  138   5.0     0              51         32        53   \n",
       "3  800840817.0  170   9.0     0              55         58        72   \n",
       "4  303236322.0  144   9.0     1              65         23        80   \n",
       "\n",
       "   acousticness_%  instrumentalness_%  liveness_%  speechiness_%  \\\n",
       "0              31                   0           8              4   \n",
       "1               7                   0          10              4   \n",
       "2              17                   0          31              6   \n",
       "3              11                   0          11             15   \n",
       "4              14                  63          11              6   \n",
       "\n",
       "   num_followers  season_Spring  season_Summer  season_Winter  \n",
       "0     12484102.0            0.0            1.0            0.0  \n",
       "1     13213551.0            1.0            0.0            0.0  \n",
       "2     29916000.0            0.0            1.0            0.0  \n",
       "3     92699744.0            0.0            1.0            0.0  \n",
       "4     76681922.0            1.0            0.0            0.0  "
      ]
     },
     "execution_count": 12,
     "metadata": {},
     "output_type": "execute_result"
    }
   ],
   "source": [
    "import sklearn\n",
    "\n",
    "columns_to_encode = ['season']\n",
    "data_to_encode = processed_data[columns_to_encode]\n",
    "encoder = sklearn.preprocessing.OneHotEncoder(sparse=False, drop='first')\n",
    "encoded_data = encoder.fit_transform(data_to_encode)\n",
    "\n",
    "# NOTE: get_feature_names() renamed to get_feature_names_out(); use latter for upgraded sklearn versions\n",
    "encoded_df = pd.DataFrame(encoded_data, columns=encoder.get_feature_names_out(columns_to_encode))\n",
    "\n",
    "processed_data = pd.concat([processed_data, encoded_df], axis=1)\n",
    "processed_data.drop(columns=columns_to_encode, inplace=True)\n",
    "\n",
    "processed_data.head()"
   ]
  },
  {
   "cell_type": "code",
   "execution_count": 13,
   "id": "7213baf5",
   "metadata": {},
   "outputs": [
    {
     "ename": "KeyError",
     "evalue": "\"['in_spotify_charts'] not found in axis\"",
     "output_type": "error",
     "traceback": [
      "\u001b[0;31m---------------------------------------------------------------------------\u001b[0m",
      "\u001b[0;31mKeyError\u001b[0m                                  Traceback (most recent call last)",
      "\u001b[1;32m/Users/dineshpolisetty/SchoolWork/Classes/Machine Learning/ml-final-project/model.ipynb Cell 37\u001b[0m line \u001b[0;36m3\n\u001b[1;32m      <a href='vscode-notebook-cell:/Users/dineshpolisetty/SchoolWork/Classes/Machine%20Learning/ml-final-project/model.ipynb#Y500sZmlsZQ%3D%3D?line=0'>1</a>\u001b[0m \u001b[39mfrom\u001b[39;00m \u001b[39msklearn\u001b[39;00m\u001b[39m.\u001b[39;00m\u001b[39mmodel_selection\u001b[39;00m \u001b[39mimport\u001b[39;00m train_test_split\n\u001b[0;32m----> <a href='vscode-notebook-cell:/Users/dineshpolisetty/SchoolWork/Classes/Machine%20Learning/ml-final-project/model.ipynb#Y500sZmlsZQ%3D%3D?line=2'>3</a>\u001b[0m features \u001b[39m=\u001b[39m processed_data\u001b[39m.\u001b[39;49mdrop([\u001b[39m'\u001b[39;49m\u001b[39min_spotify_charts\u001b[39;49m\u001b[39m'\u001b[39;49m], axis\u001b[39m=\u001b[39;49m\u001b[39m1\u001b[39;49m)  \u001b[39m# Exclude 'streams' and 'in_spotify_charts' columns\u001b[39;00m\n\u001b[1;32m      <a href='vscode-notebook-cell:/Users/dineshpolisetty/SchoolWork/Classes/Machine%20Learning/ml-final-project/model.ipynb#Y500sZmlsZQ%3D%3D?line=3'>4</a>\u001b[0m charts_label \u001b[39m=\u001b[39m processed_data[\u001b[39m'\u001b[39m\u001b[39min_spotify_charts\u001b[39m\u001b[39m'\u001b[39m]\n\u001b[1;32m      <a href='vscode-notebook-cell:/Users/dineshpolisetty/SchoolWork/Classes/Machine%20Learning/ml-final-project/model.ipynb#Y500sZmlsZQ%3D%3D?line=5'>6</a>\u001b[0m X_train, X_test, charts_train, charts_test \u001b[39m=\u001b[39m train_test_split(features, charts_label, test_size\u001b[39m=\u001b[39m\u001b[39m0.2\u001b[39m, random_state\u001b[39m=\u001b[39m\u001b[39m1\u001b[39m)\n",
      "File \u001b[0;32m/Library/Frameworks/Python.framework/Versions/3.9/lib/python3.9/site-packages/pandas/core/frame.py:5258\u001b[0m, in \u001b[0;36mDataFrame.drop\u001b[0;34m(self, labels, axis, index, columns, level, inplace, errors)\u001b[0m\n\u001b[1;32m   5110\u001b[0m \u001b[39mdef\u001b[39;00m \u001b[39mdrop\u001b[39m(\n\u001b[1;32m   5111\u001b[0m     \u001b[39mself\u001b[39m,\n\u001b[1;32m   5112\u001b[0m     labels: IndexLabel \u001b[39m=\u001b[39m \u001b[39mNone\u001b[39;00m,\n\u001b[0;32m   (...)\u001b[0m\n\u001b[1;32m   5119\u001b[0m     errors: IgnoreRaise \u001b[39m=\u001b[39m \u001b[39m\"\u001b[39m\u001b[39mraise\u001b[39m\u001b[39m\"\u001b[39m,\n\u001b[1;32m   5120\u001b[0m ) \u001b[39m-\u001b[39m\u001b[39m>\u001b[39m DataFrame \u001b[39m|\u001b[39m \u001b[39mNone\u001b[39;00m:\n\u001b[1;32m   5121\u001b[0m \u001b[39m    \u001b[39m\u001b[39m\"\"\"\u001b[39;00m\n\u001b[1;32m   5122\u001b[0m \u001b[39m    Drop specified labels from rows or columns.\u001b[39;00m\n\u001b[1;32m   5123\u001b[0m \n\u001b[0;32m   (...)\u001b[0m\n\u001b[1;32m   5256\u001b[0m \u001b[39m            weight  1.0     0.8\u001b[39;00m\n\u001b[1;32m   5257\u001b[0m \u001b[39m    \"\"\"\u001b[39;00m\n\u001b[0;32m-> 5258\u001b[0m     \u001b[39mreturn\u001b[39;00m \u001b[39msuper\u001b[39;49m()\u001b[39m.\u001b[39;49mdrop(\n\u001b[1;32m   5259\u001b[0m         labels\u001b[39m=\u001b[39;49mlabels,\n\u001b[1;32m   5260\u001b[0m         axis\u001b[39m=\u001b[39;49maxis,\n\u001b[1;32m   5261\u001b[0m         index\u001b[39m=\u001b[39;49mindex,\n\u001b[1;32m   5262\u001b[0m         columns\u001b[39m=\u001b[39;49mcolumns,\n\u001b[1;32m   5263\u001b[0m         level\u001b[39m=\u001b[39;49mlevel,\n\u001b[1;32m   5264\u001b[0m         inplace\u001b[39m=\u001b[39;49minplace,\n\u001b[1;32m   5265\u001b[0m         errors\u001b[39m=\u001b[39;49merrors,\n\u001b[1;32m   5266\u001b[0m     )\n",
      "File \u001b[0;32m/Library/Frameworks/Python.framework/Versions/3.9/lib/python3.9/site-packages/pandas/core/generic.py:4549\u001b[0m, in \u001b[0;36mNDFrame.drop\u001b[0;34m(self, labels, axis, index, columns, level, inplace, errors)\u001b[0m\n\u001b[1;32m   4547\u001b[0m \u001b[39mfor\u001b[39;00m axis, labels \u001b[39min\u001b[39;00m axes\u001b[39m.\u001b[39mitems():\n\u001b[1;32m   4548\u001b[0m     \u001b[39mif\u001b[39;00m labels \u001b[39mis\u001b[39;00m \u001b[39mnot\u001b[39;00m \u001b[39mNone\u001b[39;00m:\n\u001b[0;32m-> 4549\u001b[0m         obj \u001b[39m=\u001b[39m obj\u001b[39m.\u001b[39;49m_drop_axis(labels, axis, level\u001b[39m=\u001b[39;49mlevel, errors\u001b[39m=\u001b[39;49merrors)\n\u001b[1;32m   4551\u001b[0m \u001b[39mif\u001b[39;00m inplace:\n\u001b[1;32m   4552\u001b[0m     \u001b[39mself\u001b[39m\u001b[39m.\u001b[39m_update_inplace(obj)\n",
      "File \u001b[0;32m/Library/Frameworks/Python.framework/Versions/3.9/lib/python3.9/site-packages/pandas/core/generic.py:4591\u001b[0m, in \u001b[0;36mNDFrame._drop_axis\u001b[0;34m(self, labels, axis, level, errors, only_slice)\u001b[0m\n\u001b[1;32m   4589\u001b[0m         new_axis \u001b[39m=\u001b[39m axis\u001b[39m.\u001b[39mdrop(labels, level\u001b[39m=\u001b[39mlevel, errors\u001b[39m=\u001b[39merrors)\n\u001b[1;32m   4590\u001b[0m     \u001b[39melse\u001b[39;00m:\n\u001b[0;32m-> 4591\u001b[0m         new_axis \u001b[39m=\u001b[39m axis\u001b[39m.\u001b[39;49mdrop(labels, errors\u001b[39m=\u001b[39;49merrors)\n\u001b[1;32m   4592\u001b[0m     indexer \u001b[39m=\u001b[39m axis\u001b[39m.\u001b[39mget_indexer(new_axis)\n\u001b[1;32m   4594\u001b[0m \u001b[39m# Case for non-unique axis\u001b[39;00m\n\u001b[1;32m   4595\u001b[0m \u001b[39melse\u001b[39;00m:\n",
      "File \u001b[0;32m/Library/Frameworks/Python.framework/Versions/3.9/lib/python3.9/site-packages/pandas/core/indexes/base.py:6699\u001b[0m, in \u001b[0;36mIndex.drop\u001b[0;34m(self, labels, errors)\u001b[0m\n\u001b[1;32m   6697\u001b[0m \u001b[39mif\u001b[39;00m mask\u001b[39m.\u001b[39many():\n\u001b[1;32m   6698\u001b[0m     \u001b[39mif\u001b[39;00m errors \u001b[39m!=\u001b[39m \u001b[39m\"\u001b[39m\u001b[39mignore\u001b[39m\u001b[39m\"\u001b[39m:\n\u001b[0;32m-> 6699\u001b[0m         \u001b[39mraise\u001b[39;00m \u001b[39mKeyError\u001b[39;00m(\u001b[39mf\u001b[39m\u001b[39m\"\u001b[39m\u001b[39m{\u001b[39;00m\u001b[39mlist\u001b[39m(labels[mask])\u001b[39m}\u001b[39;00m\u001b[39m not found in axis\u001b[39m\u001b[39m\"\u001b[39m)\n\u001b[1;32m   6700\u001b[0m     indexer \u001b[39m=\u001b[39m indexer[\u001b[39m~\u001b[39mmask]\n\u001b[1;32m   6701\u001b[0m \u001b[39mreturn\u001b[39;00m \u001b[39mself\u001b[39m\u001b[39m.\u001b[39mdelete(indexer)\n",
      "\u001b[0;31mKeyError\u001b[0m: \"['in_spotify_charts'] not found in axis\""
     ]
    }
   ],
   "source": [
    "from sklearn.model_selection import train_test_split\n",
    "\n",
    "features = processed_data.drop(['in_spotify_charts'], axis=1)  # Exclude 'streams' and 'in_spotify_charts' columns\n",
    "charts_label = processed_data['in_spotify_charts']\n",
    "\n",
    "X_train, X_test, charts_train, charts_test = train_test_split(features, charts_label, test_size=0.2, random_state=1)\n",
    "X_train.head()\n"
   ]
  },
  {
   "cell_type": "markdown",
   "id": "c393297c",
   "metadata": {},
   "source": [
    "#### Descriptive Statistics"
   ]
  },
  {
   "cell_type": "code",
   "execution_count": null,
   "id": "60a28e63",
   "metadata": {},
   "outputs": [],
   "source": [
    "data.describe()"
   ]
  },
  {
   "cell_type": "code",
   "execution_count": null,
   "id": "9272efee",
   "metadata": {},
   "outputs": [],
   "source": [
    "# Notes about descriptive stats"
   ]
  },
  {
   "cell_type": "markdown",
   "id": "017ba7d0",
   "metadata": {},
   "source": [
    "#### Data Visualizations"
   ]
  },
  {
   "cell_type": "markdown",
   "id": "3b0d9dd0",
   "metadata": {},
   "source": [
    "Now, let's visualize these individual attributes to determine potentially important trends, outliers, and characteristics. First, let's take a look at the **top 20** songs on Spotify in 2023:"
   ]
  },
  {
   "cell_type": "code",
   "execution_count": null,
   "id": "b9443756",
   "metadata": {},
   "outputs": [],
   "source": [
    "# Sort and fetch top 10 songs\n",
    "data_sorted = original.sort_values(by='streams', ascending=False)\n",
    "top_20 = data_sorted.head(20)\n",
    "\n",
    "norm = plt.Normalize(data['streams'].min(), data['streams'].max())\n",
    "colors = plt.cm.rainbow(norm(top_20['streams'])) \n",
    "\n",
    "# Display results in bar chart\n",
    "plt.subplots(1,1, figsize=(6,4))\n",
    "sns.barplot(data=top_20, x='streams', y='track_name', palette=list(colors), hue='track_name')\n",
    "plt.xlabel('Streams (in billions)')\n",
    "plt.ylabel('Song Name')\n",
    "\n",
    "plt.show()"
   ]
  },
  {
   "cell_type": "markdown",
   "id": "78326b2e",
   "metadata": {},
   "source": [
    "Now, let's inspect (a) distribution of attribute values and (b) the relationships between all the attributes in our dataset to our prediction variable (# of streams) through several visualizations:"
   ]
  },
  {
   "cell_type": "code",
   "execution_count": null,
   "id": "06c05bb3",
   "metadata": {},
   "outputs": [],
   "source": [
    "plt.figure(figsize=(30,16))\n",
    "\n",
    "for i, col in enumerate(data.columns):\n",
    "    plt.subplot(4, 4, i + 1)\n",
    "    sns.histplot(data=data, x=col, bins=20)\n",
    "    plt.tight_layout\n",
    "    \n",
    "plt.show()"
   ]
  },
  {
   "cell_type": "code",
   "execution_count": null,
   "id": "be0838ab",
   "metadata": {},
   "outputs": [],
   "source": [
    "plt.figure(figsize=(25,16))\n",
    "\n",
    "exclude_cols = [\"track_name\", \"artist(s)_name\", \"streams\"]\n",
    "\n",
    "for i, col in enumerate(data.columns):\n",
    "    if col not in exclude_cols:\n",
    "        plt.subplot(4,4, i)\n",
    "        sns.scatterplot(data=data, x=col, y='streams')\n",
    "    \n",
    "plt.tight_layout()\n",
    "plt.show()"
   ]
  },
  {
   "cell_type": "code",
   "execution_count": null,
   "id": "72fd2120",
   "metadata": {},
   "outputs": [],
   "source": [
    "numeric_data = data.select_dtypes(include='number')\n",
    "correlation_with_streams = numeric_data.corr()['streams'].drop('streams').sort_values(ascending=True)\n",
    "\n",
    "heatmap_data = pd.DataFrame(correlation_with_streams).T\n",
    "\n",
    "cmap = sns.diverging_palette(10, 133, as_cmap=True)\n",
    "\n",
    "plt.figure(figsize=(20, 2))\n",
    "sns.heatmap(heatmap_data, annot=True, cmap=cmap, center=0,\n",
    "            cbar=False, linewidths=1, linecolor='black')\n",
    "\n",
    "plt.xticks(rotation=45)\n",
    "plt.xlabel('feature')\n",
    "plt.ylabel('correlation')\n",
    "plt.title('Identifying Feature Correlations to # of Streams')\n",
    "plt.show()"
   ]
  },
  {
   "cell_type": "markdown",
   "id": "591746b6",
   "metadata": {},
   "source": [
    "<hr style=\"border:0.25px solid gray\">"
   ]
  },
  {
   "cell_type": "markdown",
   "id": "9afe948a",
   "metadata": {},
   "source": [
    "## Predictive Modeling"
   ]
  },
  {
   "cell_type": "code",
   "execution_count": null,
   "id": "68c7d9f8",
   "metadata": {},
   "outputs": [],
   "source": [
    "# Simple Regression"
   ]
  },
  {
   "cell_type": "code",
   "execution_count": null,
   "id": "8451db3e",
   "metadata": {},
   "outputs": [],
   "source": [
    "# Polynomial Regression ?"
   ]
  },
  {
   "cell_type": "markdown",
   "id": "3e2722f8",
   "metadata": {},
   "source": [
    "# Regression Trees"
   ]
  },
  {
   "cell_type": "markdown",
   "id": "94da0958",
   "metadata": {},
   "source": [
    "Now, let's look at another type of model called regression trees. First things first, we exprimented with a couple of columns to drop to see which columns weren't really relevant but it seems like all of the columns helped imrpoves the R2 value for the model. We also made sure to do 5-folds cross validation to find the best hyperparameters for the max_depth, min_samples_split, min_samples_leaf, as well as the criterion the model was evaluated on. From this, we were able to determine that there is indeed some connection between the features we had as well as engineered and with the popularity of the song, in this case the number of streams the song got. By printing out the regression tree and analyzing it, we realized that the num_followers lead to the least MSE and that 2 other features that also gave a good indication was the mode of the song as well as the liveness of the song."
   ]
  },
  {
   "cell_type": "code",
   "execution_count": 23,
   "id": "535c852a",
   "metadata": {},
   "outputs": [
    {
     "name": "stdout",
     "output_type": "stream",
     "text": [
      "Mean Squared Error: 2.6320188577666554e+17\n",
      "R-squared: 0.028517448004328205\n"
     ]
    }
   ],
   "source": [
    "# Regression Trees\n",
    "from sklearn.model_selection import train_test_split\n",
    "from sklearn.tree import DecisionTreeRegressor\n",
    "from sklearn.metrics import mean_squared_error, r2_score\n",
    "from sklearn.model_selection import GridSearchCV\n",
    "from sklearn.tree import export_text\n",
    "\n",
    "\n",
    "model = DecisionTreeRegressor()\n",
    "# X = processed_data.drop(columns=['streams', 'num_followers']).copy() \n",
    "# X = processed_data.drop(columns=['streams', 'mode']).copy() \n",
    "# X = processed_data.drop(columns=['streams', 'season_Spring', 'season_Fall', 'season_Summer', 'season_Winter']).copy() \n",
    "X = processed_data.drop(columns=['streams']).copy() \n",
    "y = processed_data['streams']\n",
    "X_train, X_test, y_train, y_test = train_test_split(X, y, test_size=0.2, random_state=42)\n",
    "\n",
    "# Set up the parameter grid\n",
    "param_grid = {\n",
    "    'max_depth': [None, 5, 10, 15],\n",
    "    'min_samples_split': [2, 5, 10],\n",
    "    'min_samples_leaf': [1, 2, 4],\n",
    "    'criterion': ['friedman_mse', 'poisson'],\n",
    "}\n",
    "\n",
    "# Instantiate GridSearchCV\n",
    "grid_search = GridSearchCV(model, param_grid, cv=5, scoring='r2')\n",
    "\n",
    "# Fit the model\n",
    "grid_search.fit(X, y)\n",
    "\n",
    "# Get the best hyperparameters and model\n",
    "best_params = grid_search.best_params_\n",
    "best_model = grid_search.best_estimator_\n",
    "\n",
    "best_model.fit(X_train, y_train)\n",
    "y_pred = best_model.predict(X_test)\n",
    "mse = mean_squared_error(y_test, y_pred)\n",
    "r2 = r2_score(y_test, y_pred)\n",
    "\n",
    "# tree_rules = export_text(best_model)\n",
    "# print(tree_rules)\n",
    "# print(f\"Mean Squared Error: {mse}\")\n",
    "# print(f\"R-squared: {r2}\")\n"
   ]
  },
  {
   "cell_type": "code",
   "execution_count": null,
   "id": "b8918bfc",
   "metadata": {},
   "outputs": [],
   "source": [
    "# KNN Regression + hyperparamater tuning"
   ]
  },
  {
   "cell_type": "markdown",
   "id": "5dc30410",
   "metadata": {},
   "source": [
    "#### Support Vector Regression\n",
    "After scaling data and employing a 5-folds cross validation, we began the cross validation loop to find optimal hyperparameters. Across all iterations, Radial Basis Function was consistently the best kernel function. In regards to the C, epsilon, and gamma hyperparameters, there did not appear to be convergence at a global minimum. Rather, the best MSE values were in the range of 428 to 432. \n",
    "\n",
    "An MSE of 428, equating to an RSME of 20.68, demonstrates relatively excellent prediction for position on the Spotify charts. The downside of performing the SVR is that we are not given information about individual attribute influence."
   ]
  },
  {
   "cell_type": "code",
   "execution_count": null,
   "id": "5ecc650b",
   "metadata": {},
   "outputs": [],
   "source": [
    "# SVR\n",
    "from sklearn.model_selection import GridSearchCV\n",
    "from sklearn.svm import SVR\n",
    "from sklearn.metrics import mean_squared_error\n",
    "from sklearn.preprocessing import StandardScaler\n",
    "from sklearn.pipeline import Pipeline\n",
    "\n",
    "param_grid = {\n",
    "    'svm__C': [1, 5, 10],\n",
    "    'svm__epsilon': [3, 5, 7],\n",
    "     'svm__gamma': [0.1, 1, 5],\n",
    "     'svm__kernel': ['poly', 'rbf', 'sigmoid']\n",
    "}\n",
    "\n",
    "svm_pipeline = Pipeline([('scaler', StandardScaler()), ('svm', SVR())])\n",
    "\n",
    "# Set up GridSearchCV\n",
    "grid_search = GridSearchCV(svm_pipeline, param_grid, cv=5, scoring='neg_mean_squared_error')\n",
    "\n",
    "# Fit the grid search to the data\n",
    "grid_search.fit(X_train, charts_train)\n",
    "\n",
    "print(\"Best Parameters:\", grid_search.best_params_)\n",
    "\n",
    "# Get the best model\n",
    "best_model = grid_search.best_estimator_\n",
    "\n",
    "# Predict on the test set\n",
    "charts_pred = best_model.predict(X_test)\n",
    "\n",
    "# Calculate mean squared error (MSE)\n",
    "mse = mean_squared_error(charts_test, charts_pred)\n",
    "\n",
    "print(\"Mean Squared Error on Test Set:\", mse)"
   ]
  },
  {
   "cell_type": "code",
   "execution_count": null,
   "id": "9a10f852",
   "metadata": {},
   "outputs": [],
   "source": [
    "# Evaluate + Ensemble"
   ]
  },
  {
   "cell_type": "markdown",
   "id": "7c0a0be9",
   "metadata": {},
   "source": [
    "<hr style=\"border:0.25px solid gray\">\n"
   ]
  },
  {
   "cell_type": "markdown",
   "id": "92c0ea9f",
   "metadata": {},
   "source": [
    "## Results & Discussion"
   ]
  },
  {
   "cell_type": "markdown",
   "id": "09269a0a",
   "metadata": {},
   "source": []
  }
 ],
 "metadata": {
  "kernelspec": {
   "display_name": "Python 3 (ipykernel)",
   "language": "python",
   "name": "python3"
  },
  "language_info": {
   "codemirror_mode": {
    "name": "ipython",
    "version": 3
   },
   "file_extension": ".py",
   "mimetype": "text/x-python",
   "name": "python",
   "nbconvert_exporter": "python",
   "pygments_lexer": "ipython3",
   "version": "3.8.2"
  }
 },
 "nbformat": 4,
 "nbformat_minor": 5
}
