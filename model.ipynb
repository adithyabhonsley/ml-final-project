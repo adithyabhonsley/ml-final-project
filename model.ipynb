{
 "cells": [
  {
   "cell_type": "markdown",
   "id": "13862c99",
   "metadata": {},
   "source": [
    "# Predicting Hits on Spotify using Machine Learning"
   ]
  },
  {
   "cell_type": "markdown",
   "id": "bbb02ae2",
   "metadata": {},
   "source": [
    "In this era of digital music, understanding the dynamics of song popularity is more intriguing than ever! With millions of songs available at our fingertips, we were curious to leverage machine learning to launch a data-driven exploration into what makes songs hits. For our experiments, we'll take a closer look into Spotify, one of the largest music streaming platforms in the world, and aim to predict song popularity through a variety of different modeling and analysis techniques."
   ]
  },
  {
   "cell_type": "markdown",
   "id": "44ddd4cc",
   "metadata": {},
   "source": [
    "## Defining a Library"
   ]
  },
  {
   "cell_type": "markdown",
   "id": "592d6325",
   "metadata": {},
   "source": [
    "First, lets import all relevant libraries needed for data analysis, modeling, and visualizations."
   ]
  },
  {
   "cell_type": "code",
   "execution_count": 5,
   "id": "fbf92272",
   "metadata": {},
   "outputs": [],
   "source": [
    "import numpy as np\n",
    "import pandas as pd\n",
    "import seaborn as sns\n",
    "import matplotlib.pyplot as plt"
   ]
  },
  {
   "cell_type": "markdown",
   "id": "676af7fe",
   "metadata": {},
   "source": [
    "## Fetching Data"
   ]
  },
  {
   "cell_type": "markdown",
   "id": "f23275b0",
   "metadata": {},
   "source": [
    "For our experiments, we'll use a Kaggle dataset sourced by developer Nidula Elgiryewithana, a comprehensive list of 2023 songs with an extensive insights on musical attributes, popularity, relevant metrics, and more. First, we read and load the data from its original CSV format."
   ]
  },
  {
   "cell_type": "code",
   "execution_count": null,
   "id": "b8f74053",
   "metadata": {},
   "outputs": [],
   "source": [
    "data = pd.read_csv('/data/spotify-2023.csv', encoding='latin-1')\n",
    "data.head()"
   ]
  },
  {
   "cell_type": "markdown",
   "id": "66b98bbe",
   "metadata": {},
   "source": [
    "## Data Exploration"
   ]
  },
  {
   "cell_type": "markdown",
   "id": "b8901802",
   "metadata": {},
   "source": [
    "Given the data, now let's take a closer look the features provided, their data-types, and other attributes which may need to adjusted or cleaned prior to experimentation."
   ]
  },
  {
   "cell_type": "code",
   "execution_count": null,
   "id": "83f02093",
   "metadata": {},
   "outputs": [],
   "source": []
  }
 ],
 "metadata": {
  "kernelspec": {
   "display_name": "Python 3 (ipykernel)",
   "language": "python",
   "name": "python3"
  },
  "language_info": {
   "codemirror_mode": {
    "name": "ipython",
    "version": 3
   },
   "file_extension": ".py",
   "mimetype": "text/x-python",
   "name": "python",
   "nbconvert_exporter": "python",
   "pygments_lexer": "ipython3",
   "version": "3.10.5"
  }
 },
 "nbformat": 4,
 "nbformat_minor": 5
}
